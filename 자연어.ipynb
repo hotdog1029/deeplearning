{
  "nbformat": 4,
  "nbformat_minor": 0,
  "metadata": {
    "colab": {
      "name": "자연어.ipynb",
      "provenance": [],
      "collapsed_sections": [],
      "authorship_tag": "ABX9TyNyobCcoHhHVtfUsq9Bu6IO",
      "include_colab_link": true
    },
    "kernelspec": {
      "name": "python3",
      "display_name": "Python 3"
    },
    "widgets": {
      "application/vnd.jupyter.widget-state+json": {
        "207e7d6c9f9844608245d7e763cccc3b": {
          "model_module": "@jupyter-widgets/controls",
          "model_name": "HBoxModel",
          "state": {
            "_view_name": "HBoxView",
            "_dom_classes": [],
            "_model_name": "HBoxModel",
            "_view_module": "@jupyter-widgets/controls",
            "_model_module_version": "1.5.0",
            "_view_count": null,
            "_view_module_version": "1.5.0",
            "box_style": "",
            "layout": "IPY_MODEL_dd04dfa58e32499e93eb97e4517c53a3",
            "_model_module": "@jupyter-widgets/controls",
            "children": [
              "IPY_MODEL_8e4dc557eab1461fb58e72f02a93e6e1",
              "IPY_MODEL_e36b169ed80e49c59be6af95c7e56864"
            ]
          }
        },
        "dd04dfa58e32499e93eb97e4517c53a3": {
          "model_module": "@jupyter-widgets/base",
          "model_name": "LayoutModel",
          "state": {
            "_view_name": "LayoutView",
            "grid_template_rows": null,
            "right": null,
            "justify_content": null,
            "_view_module": "@jupyter-widgets/base",
            "overflow": null,
            "_model_module_version": "1.2.0",
            "_view_count": null,
            "flex_flow": null,
            "width": null,
            "min_width": null,
            "border": null,
            "align_items": null,
            "bottom": null,
            "_model_module": "@jupyter-widgets/base",
            "top": null,
            "grid_column": null,
            "overflow_y": null,
            "overflow_x": null,
            "grid_auto_flow": null,
            "grid_area": null,
            "grid_template_columns": null,
            "flex": null,
            "_model_name": "LayoutModel",
            "justify_items": null,
            "grid_row": null,
            "max_height": null,
            "align_content": null,
            "visibility": null,
            "align_self": null,
            "height": null,
            "min_height": null,
            "padding": null,
            "grid_auto_rows": null,
            "grid_gap": null,
            "max_width": null,
            "order": null,
            "_view_module_version": "1.2.0",
            "grid_template_areas": null,
            "object_position": null,
            "object_fit": null,
            "grid_auto_columns": null,
            "margin": null,
            "display": null,
            "left": null
          }
        },
        "8e4dc557eab1461fb58e72f02a93e6e1": {
          "model_module": "@jupyter-widgets/controls",
          "model_name": "FloatProgressModel",
          "state": {
            "_view_name": "ProgressView",
            "style": "IPY_MODEL_4dfd265b88fd4185bd171d71da4a76ae",
            "_dom_classes": [],
            "description": "Downloading: 100%",
            "_model_name": "FloatProgressModel",
            "bar_style": "success",
            "max": 231508,
            "_view_module": "@jupyter-widgets/controls",
            "_model_module_version": "1.5.0",
            "value": 231508,
            "_view_count": null,
            "_view_module_version": "1.5.0",
            "orientation": "horizontal",
            "min": 0,
            "description_tooltip": null,
            "_model_module": "@jupyter-widgets/controls",
            "layout": "IPY_MODEL_46cb7f5e9c7c463bb39eb013e80c1c75"
          }
        },
        "e36b169ed80e49c59be6af95c7e56864": {
          "model_module": "@jupyter-widgets/controls",
          "model_name": "HTMLModel",
          "state": {
            "_view_name": "HTMLView",
            "style": "IPY_MODEL_5cb9d5d83ccb49a19f7f00a31ae5b04c",
            "_dom_classes": [],
            "description": "",
            "_model_name": "HTMLModel",
            "placeholder": "​",
            "_view_module": "@jupyter-widgets/controls",
            "_model_module_version": "1.5.0",
            "value": " 232k/232k [00:00&lt;00:00, 515kB/s]",
            "_view_count": null,
            "_view_module_version": "1.5.0",
            "description_tooltip": null,
            "_model_module": "@jupyter-widgets/controls",
            "layout": "IPY_MODEL_0b5553b0e7414baca19d1bf111c06005"
          }
        },
        "4dfd265b88fd4185bd171d71da4a76ae": {
          "model_module": "@jupyter-widgets/controls",
          "model_name": "ProgressStyleModel",
          "state": {
            "_view_name": "StyleView",
            "_model_name": "ProgressStyleModel",
            "description_width": "initial",
            "_view_module": "@jupyter-widgets/base",
            "_model_module_version": "1.5.0",
            "_view_count": null,
            "_view_module_version": "1.2.0",
            "bar_color": null,
            "_model_module": "@jupyter-widgets/controls"
          }
        },
        "46cb7f5e9c7c463bb39eb013e80c1c75": {
          "model_module": "@jupyter-widgets/base",
          "model_name": "LayoutModel",
          "state": {
            "_view_name": "LayoutView",
            "grid_template_rows": null,
            "right": null,
            "justify_content": null,
            "_view_module": "@jupyter-widgets/base",
            "overflow": null,
            "_model_module_version": "1.2.0",
            "_view_count": null,
            "flex_flow": null,
            "width": null,
            "min_width": null,
            "border": null,
            "align_items": null,
            "bottom": null,
            "_model_module": "@jupyter-widgets/base",
            "top": null,
            "grid_column": null,
            "overflow_y": null,
            "overflow_x": null,
            "grid_auto_flow": null,
            "grid_area": null,
            "grid_template_columns": null,
            "flex": null,
            "_model_name": "LayoutModel",
            "justify_items": null,
            "grid_row": null,
            "max_height": null,
            "align_content": null,
            "visibility": null,
            "align_self": null,
            "height": null,
            "min_height": null,
            "padding": null,
            "grid_auto_rows": null,
            "grid_gap": null,
            "max_width": null,
            "order": null,
            "_view_module_version": "1.2.0",
            "grid_template_areas": null,
            "object_position": null,
            "object_fit": null,
            "grid_auto_columns": null,
            "margin": null,
            "display": null,
            "left": null
          }
        },
        "5cb9d5d83ccb49a19f7f00a31ae5b04c": {
          "model_module": "@jupyter-widgets/controls",
          "model_name": "DescriptionStyleModel",
          "state": {
            "_view_name": "StyleView",
            "_model_name": "DescriptionStyleModel",
            "description_width": "",
            "_view_module": "@jupyter-widgets/base",
            "_model_module_version": "1.5.0",
            "_view_count": null,
            "_view_module_version": "1.2.0",
            "_model_module": "@jupyter-widgets/controls"
          }
        },
        "0b5553b0e7414baca19d1bf111c06005": {
          "model_module": "@jupyter-widgets/base",
          "model_name": "LayoutModel",
          "state": {
            "_view_name": "LayoutView",
            "grid_template_rows": null,
            "right": null,
            "justify_content": null,
            "_view_module": "@jupyter-widgets/base",
            "overflow": null,
            "_model_module_version": "1.2.0",
            "_view_count": null,
            "flex_flow": null,
            "width": null,
            "min_width": null,
            "border": null,
            "align_items": null,
            "bottom": null,
            "_model_module": "@jupyter-widgets/base",
            "top": null,
            "grid_column": null,
            "overflow_y": null,
            "overflow_x": null,
            "grid_auto_flow": null,
            "grid_area": null,
            "grid_template_columns": null,
            "flex": null,
            "_model_name": "LayoutModel",
            "justify_items": null,
            "grid_row": null,
            "max_height": null,
            "align_content": null,
            "visibility": null,
            "align_self": null,
            "height": null,
            "min_height": null,
            "padding": null,
            "grid_auto_rows": null,
            "grid_gap": null,
            "max_width": null,
            "order": null,
            "_view_module_version": "1.2.0",
            "grid_template_areas": null,
            "object_position": null,
            "object_fit": null,
            "grid_auto_columns": null,
            "margin": null,
            "display": null,
            "left": null
          }
        }
      }
    }
  },
  "cells": [
    {
      "cell_type": "markdown",
      "metadata": {
        "id": "view-in-github",
        "colab_type": "text"
      },
      "source": [
        "<a href=\"https://colab.research.google.com/github/hotdog1029/deeplearning/blob/main/%EC%9E%90%EC%97%B0%EC%96%B4.ipynb\" target=\"_parent\"><img src=\"https://colab.research.google.com/assets/colab-badge.svg\" alt=\"Open In Colab\"/></a>"
      ]
    },
    {
      "cell_type": "markdown",
      "metadata": {
        "id": "aDRJYAaYuOb7"
      },
      "source": [
        "# 자연어\r\n",
        "Text 데이터를 분석하고 모델링하는 분야를 '자연어 처리(Natural Language Processing, NLP)' 라고 한다. 이를 자연어를 이해하는 영역인 '자연어 이해(Natural Language Understanding, NLU)', 모델이 자연어를 생성하는 영역인 '자연어 생성(Natutal Language Generation,NLG)'으로 나눠 표현하기도 한다.\r\n",
        "\r\n",
        "NLU: text -> meaning\r\n",
        "\r\n",
        "NLG: meaning -> text\r\n",
        "\r\n",
        "NLP: NLU + NLG"
      ]
    },
    {
      "cell_type": "markdown",
      "metadata": {
        "id": "N6WxPcuAGZov"
      },
      "source": [
        " 문장을 의미 있는 부분으로 나누는 과정을 'Tokenization' 이라 부르고 쪼개진 부분을 Token이라고 부른다."
      ]
    },
    {
      "cell_type": "code",
      "metadata": {
        "id": "kC0ZEhFNDD9J"
      },
      "source": [
        "pip install transformers # pip로 transformers 설치"
      ],
      "execution_count": null,
      "outputs": []
    },
    {
      "cell_type": "code",
      "metadata": {
        "colab": {
          "base_uri": "https://localhost:8080/",
          "height": 84,
          "referenced_widgets": [
            "207e7d6c9f9844608245d7e763cccc3b",
            "dd04dfa58e32499e93eb97e4517c53a3",
            "8e4dc557eab1461fb58e72f02a93e6e1",
            "e36b169ed80e49c59be6af95c7e56864",
            "4dfd265b88fd4185bd171d71da4a76ae",
            "46cb7f5e9c7c463bb39eb013e80c1c75",
            "5cb9d5d83ccb49a19f7f00a31ae5b04c",
            "0b5553b0e7414baca19d1bf111c06005"
          ]
        },
        "id": "anCwxtL3-VIW",
        "outputId": "c27a04e9-4bba-4c73-b0d8-5cec2c258e5c"
      },
      "source": [
        "from transformers import BertTokenizer\r\n",
        "tokenizer = BertTokenizer.from_pretrained('bert-base-uncased') # bert-base-uncased 라는 이름의 이미 학습된 모델을 나중에 사용할 예정인데, 해당 모델을 사용하려면 모델 학습을 위해 사용했던 \r\n",
        "                                                               # Tokenizer도 일치시켜야한다. 그래서 다음과 같이 연구자가 미리 학습해둔 Tokenizer를 가져와 사용한다. \r\n",
        "print(len(tokenizer.vocab)) # vocab를 이용하면 해당 Tokenizer의 크기를 확인해볼 수 있다."
      ],
      "execution_count": 9,
      "outputs": [
        {
          "output_type": "display_data",
          "data": {
            "application/vnd.jupyter.widget-view+json": {
              "model_id": "207e7d6c9f9844608245d7e763cccc3b",
              "version_minor": 0,
              "version_major": 2
            },
            "text/plain": [
              "HBox(children=(FloatProgress(value=0.0, description='Downloading', max=231508.0, style=ProgressStyle(descripti…"
            ]
          },
          "metadata": {
            "tags": []
          }
        },
        {
          "output_type": "stream",
          "text": [
            "\n",
            "30522\n"
          ],
          "name": "stdout"
        }
      ]
    },
    {
      "cell_type": "code",
      "metadata": {
        "colab": {
          "base_uri": "https://localhost:8080/"
        },
        "id": "lYBF4ICqB8Ug",
        "outputId": "f0b283a8-e271-4912-fb93-61fdebdc34ba"
      },
      "source": [
        "tokenizer = BertTokenizer.from_pretrained('bert-base-uncased')\r\n",
        "sentence = 'My dog is cute. He likes playing'\r\n",
        "print(tokenizer.tokenize(sentence)) # tokenize Module에 문장을 넣고 tokenization 결과를 볼 수 있다. split과 다르지 않는 결과를 보여준다\r\n",
        "\r\n",
        "tokenizer = BertTokenizer.from_pretrained('bert-base-multilingual-uncased') # 하지만 다양한 언어를 담고 있는 다른 데이터에서 학습한 모델인 'bert-base-multilingual-uncased'의 tokenizer를 가져와\r\n",
        "                                                                            # 문장을 tokenization하면 cute가 cut와 ##e로 나눠지는 것을 볼 수 있다.\r\n",
        "print(len(tokenizer.vocab))\r\n",
        "print(tokenizer.tokenize(sentence))\r\n",
        "\r\n",
        "sentence = '나는 책상 위에 사과를 먹었다. 알고 보니 그 사과는 Jason 것이었다. 그래서 Jason에게 사과를 했다.' # 위 multilingual model에는 한국에 데이터도 포함돼 있어서 한국어에 대한 tokenization\r\n",
        "                                                                                                             # 도 해볼 수 있다.\r\n",
        "print(tokenizer.tokenize(sentence))"
      ],
      "execution_count": 15,
      "outputs": [
        {
          "output_type": "stream",
          "text": [
            "['my', 'dog', 'is', 'cute', '.', 'he', 'likes', 'playing']\n",
            "105879\n",
            "['my', 'dog', 'is', 'cut', '##e', '.', 'he', 'likes', 'playing']\n",
            "['나는', 'ᄎ', '##ᅢᆨ', '##상', '위에', 'ᄉ', '##ᅡ', '##과', '##를', 'ᄆ', '##ᅥ', '##ᆨ', '##었다', '.', '알', '##고', 'ᄇ', '##ᅩ', '##니', '그', 'ᄉ', '##ᅡ', '##과', '##는', 'jason', '것이', '##었다', '.', '그', '##래', '##서', 'jason', '##에게', 'ᄉ', '##ᅡ', '##과', '##를', '했다', '.']\n"
          ],
          "name": "stdout"
        }
      ]
    }
  ]
}