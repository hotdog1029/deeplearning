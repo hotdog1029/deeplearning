{
  "nbformat": 4,
  "nbformat_minor": 0,
  "metadata": {
    "colab": {
      "name": "CIFAR-10 데이터를 이용해 MLP,CNN 모델 비교하기.ipynb",
      "provenance": [],
      "collapsed_sections": [],
      "authorship_tag": "ABX9TyPJNtnyOfChZy/MCHx4w8cz",
      "include_colab_link": true
    },
    "kernelspec": {
      "name": "python3",
      "display_name": "Python 3"
    },
    "widgets": {
      "application/vnd.jupyter.widget-state+json": {
        "b13d3087468645769dcd39fdf9fe483d": {
          "model_module": "@jupyter-widgets/controls",
          "model_name": "HBoxModel",
          "state": {
            "_view_name": "HBoxView",
            "_dom_classes": [],
            "_model_name": "HBoxModel",
            "_view_module": "@jupyter-widgets/controls",
            "_model_module_version": "1.5.0",
            "_view_count": null,
            "_view_module_version": "1.5.0",
            "box_style": "",
            "layout": "IPY_MODEL_7f81afb0481c45f18430963a48c1057f",
            "_model_module": "@jupyter-widgets/controls",
            "children": [
              "IPY_MODEL_793aa0f110c547c38052fc6f1e24deb3",
              "IPY_MODEL_34f6c42dff924391917b913270404403"
            ]
          }
        },
        "7f81afb0481c45f18430963a48c1057f": {
          "model_module": "@jupyter-widgets/base",
          "model_name": "LayoutModel",
          "state": {
            "_view_name": "LayoutView",
            "grid_template_rows": null,
            "right": null,
            "justify_content": null,
            "_view_module": "@jupyter-widgets/base",
            "overflow": null,
            "_model_module_version": "1.2.0",
            "_view_count": null,
            "flex_flow": null,
            "width": null,
            "min_width": null,
            "border": null,
            "align_items": null,
            "bottom": null,
            "_model_module": "@jupyter-widgets/base",
            "top": null,
            "grid_column": null,
            "overflow_y": null,
            "overflow_x": null,
            "grid_auto_flow": null,
            "grid_area": null,
            "grid_template_columns": null,
            "flex": null,
            "_model_name": "LayoutModel",
            "justify_items": null,
            "grid_row": null,
            "max_height": null,
            "align_content": null,
            "visibility": null,
            "align_self": null,
            "height": null,
            "min_height": null,
            "padding": null,
            "grid_auto_rows": null,
            "grid_gap": null,
            "max_width": null,
            "order": null,
            "_view_module_version": "1.2.0",
            "grid_template_areas": null,
            "object_position": null,
            "object_fit": null,
            "grid_auto_columns": null,
            "margin": null,
            "display": null,
            "left": null
          }
        },
        "793aa0f110c547c38052fc6f1e24deb3": {
          "model_module": "@jupyter-widgets/controls",
          "model_name": "FloatProgressModel",
          "state": {
            "_view_name": "ProgressView",
            "style": "IPY_MODEL_31cfcdeda2e744b7b0c02c523089934e",
            "_dom_classes": [],
            "description": "",
            "_model_name": "FloatProgressModel",
            "bar_style": "info",
            "max": 1,
            "_view_module": "@jupyter-widgets/controls",
            "_model_module_version": "1.5.0",
            "value": 0,
            "_view_count": null,
            "_view_module_version": "1.5.0",
            "orientation": "horizontal",
            "min": 0,
            "description_tooltip": null,
            "_model_module": "@jupyter-widgets/controls",
            "layout": "IPY_MODEL_f4d23fc37af3421798dff894665facfa"
          }
        },
        "34f6c42dff924391917b913270404403": {
          "model_module": "@jupyter-widgets/controls",
          "model_name": "HTMLModel",
          "state": {
            "_view_name": "HTMLView",
            "style": "IPY_MODEL_3a260f155c30495baf84dbf4ab437a57",
            "_dom_classes": [],
            "description": "",
            "_model_name": "HTMLModel",
            "placeholder": "​",
            "_view_module": "@jupyter-widgets/controls",
            "_model_module_version": "1.5.0",
            "value": " 0/? [00:00&lt;?, ?it/s]",
            "_view_count": null,
            "_view_module_version": "1.5.0",
            "description_tooltip": null,
            "_model_module": "@jupyter-widgets/controls",
            "layout": "IPY_MODEL_8992e47443574df6a6bee272ddb69076"
          }
        },
        "31cfcdeda2e744b7b0c02c523089934e": {
          "model_module": "@jupyter-widgets/controls",
          "model_name": "ProgressStyleModel",
          "state": {
            "_view_name": "StyleView",
            "_model_name": "ProgressStyleModel",
            "description_width": "initial",
            "_view_module": "@jupyter-widgets/base",
            "_model_module_version": "1.5.0",
            "_view_count": null,
            "_view_module_version": "1.2.0",
            "bar_color": null,
            "_model_module": "@jupyter-widgets/controls"
          }
        },
        "f4d23fc37af3421798dff894665facfa": {
          "model_module": "@jupyter-widgets/base",
          "model_name": "LayoutModel",
          "state": {
            "_view_name": "LayoutView",
            "grid_template_rows": null,
            "right": null,
            "justify_content": null,
            "_view_module": "@jupyter-widgets/base",
            "overflow": null,
            "_model_module_version": "1.2.0",
            "_view_count": null,
            "flex_flow": null,
            "width": null,
            "min_width": null,
            "border": null,
            "align_items": null,
            "bottom": null,
            "_model_module": "@jupyter-widgets/base",
            "top": null,
            "grid_column": null,
            "overflow_y": null,
            "overflow_x": null,
            "grid_auto_flow": null,
            "grid_area": null,
            "grid_template_columns": null,
            "flex": null,
            "_model_name": "LayoutModel",
            "justify_items": null,
            "grid_row": null,
            "max_height": null,
            "align_content": null,
            "visibility": null,
            "align_self": null,
            "height": null,
            "min_height": null,
            "padding": null,
            "grid_auto_rows": null,
            "grid_gap": null,
            "max_width": null,
            "order": null,
            "_view_module_version": "1.2.0",
            "grid_template_areas": null,
            "object_position": null,
            "object_fit": null,
            "grid_auto_columns": null,
            "margin": null,
            "display": null,
            "left": null
          }
        },
        "3a260f155c30495baf84dbf4ab437a57": {
          "model_module": "@jupyter-widgets/controls",
          "model_name": "DescriptionStyleModel",
          "state": {
            "_view_name": "StyleView",
            "_model_name": "DescriptionStyleModel",
            "description_width": "",
            "_view_module": "@jupyter-widgets/base",
            "_model_module_version": "1.5.0",
            "_view_count": null,
            "_view_module_version": "1.2.0",
            "_model_module": "@jupyter-widgets/controls"
          }
        },
        "8992e47443574df6a6bee272ddb69076": {
          "model_module": "@jupyter-widgets/base",
          "model_name": "LayoutModel",
          "state": {
            "_view_name": "LayoutView",
            "grid_template_rows": null,
            "right": null,
            "justify_content": null,
            "_view_module": "@jupyter-widgets/base",
            "overflow": null,
            "_model_module_version": "1.2.0",
            "_view_count": null,
            "flex_flow": null,
            "width": null,
            "min_width": null,
            "border": null,
            "align_items": null,
            "bottom": null,
            "_model_module": "@jupyter-widgets/base",
            "top": null,
            "grid_column": null,
            "overflow_y": null,
            "overflow_x": null,
            "grid_auto_flow": null,
            "grid_area": null,
            "grid_template_columns": null,
            "flex": null,
            "_model_name": "LayoutModel",
            "justify_items": null,
            "grid_row": null,
            "max_height": null,
            "align_content": null,
            "visibility": null,
            "align_self": null,
            "height": null,
            "min_height": null,
            "padding": null,
            "grid_auto_rows": null,
            "grid_gap": null,
            "max_width": null,
            "order": null,
            "_view_module_version": "1.2.0",
            "grid_template_areas": null,
            "object_position": null,
            "object_fit": null,
            "grid_auto_columns": null,
            "margin": null,
            "display": null,
            "left": null
          }
        },
        "b612a8e0a5704b5ca3a6126c10428bd8": {
          "model_module": "@jupyter-widgets/controls",
          "model_name": "HBoxModel",
          "state": {
            "_view_name": "HBoxView",
            "_dom_classes": [],
            "_model_name": "HBoxModel",
            "_view_module": "@jupyter-widgets/controls",
            "_model_module_version": "1.5.0",
            "_view_count": null,
            "_view_module_version": "1.5.0",
            "box_style": "",
            "layout": "IPY_MODEL_b703e337af4d4243a8de688073fe11b9",
            "_model_module": "@jupyter-widgets/controls",
            "children": [
              "IPY_MODEL_0111cee0cc254bccb6800d262ab6f316",
              "IPY_MODEL_78f19c3c73ae45a08f8233521a31f506"
            ]
          }
        },
        "b703e337af4d4243a8de688073fe11b9": {
          "model_module": "@jupyter-widgets/base",
          "model_name": "LayoutModel",
          "state": {
            "_view_name": "LayoutView",
            "grid_template_rows": null,
            "right": null,
            "justify_content": null,
            "_view_module": "@jupyter-widgets/base",
            "overflow": null,
            "_model_module_version": "1.2.0",
            "_view_count": null,
            "flex_flow": null,
            "width": null,
            "min_width": null,
            "border": null,
            "align_items": null,
            "bottom": null,
            "_model_module": "@jupyter-widgets/base",
            "top": null,
            "grid_column": null,
            "overflow_y": null,
            "overflow_x": null,
            "grid_auto_flow": null,
            "grid_area": null,
            "grid_template_columns": null,
            "flex": null,
            "_model_name": "LayoutModel",
            "justify_items": null,
            "grid_row": null,
            "max_height": null,
            "align_content": null,
            "visibility": null,
            "align_self": null,
            "height": null,
            "min_height": null,
            "padding": null,
            "grid_auto_rows": null,
            "grid_gap": null,
            "max_width": null,
            "order": null,
            "_view_module_version": "1.2.0",
            "grid_template_areas": null,
            "object_position": null,
            "object_fit": null,
            "grid_auto_columns": null,
            "margin": null,
            "display": null,
            "left": null
          }
        },
        "0111cee0cc254bccb6800d262ab6f316": {
          "model_module": "@jupyter-widgets/controls",
          "model_name": "FloatProgressModel",
          "state": {
            "_view_name": "ProgressView",
            "style": "IPY_MODEL_6d6914421d8641caa339a5f1c186c292",
            "_dom_classes": [],
            "description": "",
            "_model_name": "FloatProgressModel",
            "bar_style": "info",
            "max": 1,
            "_view_module": "@jupyter-widgets/controls",
            "_model_module_version": "1.5.0",
            "value": 1,
            "_view_count": null,
            "_view_module_version": "1.5.0",
            "orientation": "horizontal",
            "min": 0,
            "description_tooltip": null,
            "_model_module": "@jupyter-widgets/controls",
            "layout": "IPY_MODEL_bf251942000946eda9cb0e6de492726a"
          }
        },
        "78f19c3c73ae45a08f8233521a31f506": {
          "model_module": "@jupyter-widgets/controls",
          "model_name": "HTMLModel",
          "state": {
            "_view_name": "HTMLView",
            "style": "IPY_MODEL_97306f6aba584f10a74b422ab41957ad",
            "_dom_classes": [],
            "description": "",
            "_model_name": "HTMLModel",
            "placeholder": "​",
            "_view_module": "@jupyter-widgets/controls",
            "_model_module_version": "1.5.0",
            "value": " 170500096/? [00:19&lt;00:00, 28912769.33it/s]",
            "_view_count": null,
            "_view_module_version": "1.5.0",
            "description_tooltip": null,
            "_model_module": "@jupyter-widgets/controls",
            "layout": "IPY_MODEL_46f5570b7c324e38981a2289daf7ee16"
          }
        },
        "6d6914421d8641caa339a5f1c186c292": {
          "model_module": "@jupyter-widgets/controls",
          "model_name": "ProgressStyleModel",
          "state": {
            "_view_name": "StyleView",
            "_model_name": "ProgressStyleModel",
            "description_width": "initial",
            "_view_module": "@jupyter-widgets/base",
            "_model_module_version": "1.5.0",
            "_view_count": null,
            "_view_module_version": "1.2.0",
            "bar_color": null,
            "_model_module": "@jupyter-widgets/controls"
          }
        },
        "bf251942000946eda9cb0e6de492726a": {
          "model_module": "@jupyter-widgets/base",
          "model_name": "LayoutModel",
          "state": {
            "_view_name": "LayoutView",
            "grid_template_rows": null,
            "right": null,
            "justify_content": null,
            "_view_module": "@jupyter-widgets/base",
            "overflow": null,
            "_model_module_version": "1.2.0",
            "_view_count": null,
            "flex_flow": null,
            "width": null,
            "min_width": null,
            "border": null,
            "align_items": null,
            "bottom": null,
            "_model_module": "@jupyter-widgets/base",
            "top": null,
            "grid_column": null,
            "overflow_y": null,
            "overflow_x": null,
            "grid_auto_flow": null,
            "grid_area": null,
            "grid_template_columns": null,
            "flex": null,
            "_model_name": "LayoutModel",
            "justify_items": null,
            "grid_row": null,
            "max_height": null,
            "align_content": null,
            "visibility": null,
            "align_self": null,
            "height": null,
            "min_height": null,
            "padding": null,
            "grid_auto_rows": null,
            "grid_gap": null,
            "max_width": null,
            "order": null,
            "_view_module_version": "1.2.0",
            "grid_template_areas": null,
            "object_position": null,
            "object_fit": null,
            "grid_auto_columns": null,
            "margin": null,
            "display": null,
            "left": null
          }
        },
        "97306f6aba584f10a74b422ab41957ad": {
          "model_module": "@jupyter-widgets/controls",
          "model_name": "DescriptionStyleModel",
          "state": {
            "_view_name": "StyleView",
            "_model_name": "DescriptionStyleModel",
            "description_width": "",
            "_view_module": "@jupyter-widgets/base",
            "_model_module_version": "1.5.0",
            "_view_count": null,
            "_view_module_version": "1.2.0",
            "_model_module": "@jupyter-widgets/controls"
          }
        },
        "46f5570b7c324e38981a2289daf7ee16": {
          "model_module": "@jupyter-widgets/base",
          "model_name": "LayoutModel",
          "state": {
            "_view_name": "LayoutView",
            "grid_template_rows": null,
            "right": null,
            "justify_content": null,
            "_view_module": "@jupyter-widgets/base",
            "overflow": null,
            "_model_module_version": "1.2.0",
            "_view_count": null,
            "flex_flow": null,
            "width": null,
            "min_width": null,
            "border": null,
            "align_items": null,
            "bottom": null,
            "_model_module": "@jupyter-widgets/base",
            "top": null,
            "grid_column": null,
            "overflow_y": null,
            "overflow_x": null,
            "grid_auto_flow": null,
            "grid_area": null,
            "grid_template_columns": null,
            "flex": null,
            "_model_name": "LayoutModel",
            "justify_items": null,
            "grid_row": null,
            "max_height": null,
            "align_content": null,
            "visibility": null,
            "align_self": null,
            "height": null,
            "min_height": null,
            "padding": null,
            "grid_auto_rows": null,
            "grid_gap": null,
            "max_width": null,
            "order": null,
            "_view_module_version": "1.2.0",
            "grid_template_areas": null,
            "object_position": null,
            "object_fit": null,
            "grid_auto_columns": null,
            "margin": null,
            "display": null,
            "left": null
          }
        }
      }
    }
  },
  "cells": [
    {
      "cell_type": "markdown",
      "metadata": {
        "id": "view-in-github",
        "colab_type": "text"
      },
      "source": [
        "<a href=\"https://colab.research.google.com/github/hotdog1029/deeplearning/blob/main/CIFAR_10_%EB%8D%B0%EC%9D%B4%ED%84%B0%EB%A5%BC_%EC%9D%B4%EC%9A%A9%ED%95%B4_MLP%2CCNN_%EB%AA%A8%EB%8D%B8_%EB%B9%84%EA%B5%90%ED%95%98%EA%B8%B0.ipynb\" target=\"_parent\"><img src=\"https://colab.research.google.com/assets/colab-badge.svg\" alt=\"Open In Colab\"/></a>"
      ]
    },
    {
      "cell_type": "code",
      "metadata": {
        "id": "MMXRKEFqlrH7"
      },
      "source": [
        "# 1. 사용할 모듈 임포트하기\r\n",
        "import numpy as np\r\n",
        "import matplotlib.pyplot as plt\r\n",
        "\r\n",
        "import torch\r\n",
        "import torch.nn as nn\r\n",
        "import torch.nn.functional as F\r\n",
        "from torchvision import transforms, datasets "
      ],
      "execution_count": 2,
      "outputs": []
    },
    {
      "cell_type": "code",
      "metadata": {
        "colab": {
          "base_uri": "https://localhost:8080/"
        },
        "id": "eCzl4VHRmRpM",
        "outputId": "69bbab17-f485-4c03-b41a-9ae54e73fd30"
      },
      "source": [
        "# 2. 딥러닝 모델을 설계할 때 활용하는 장비 확인\r\n",
        "if torch.cuda.is_available():\r\n",
        "  DEVICE = torch.device('cuda')\r\n",
        "else:\r\n",
        "  DEVICE = torch.device('cpu')\r\n",
        "print('사용할 파이토치 버전: ', torch.__version__, 'Device: ',DEVICE)"
      ],
      "execution_count": 3,
      "outputs": [
        {
          "output_type": "stream",
          "text": [
            "사용할 파이토치 버전:  1.7.0+cu101 Device:  cpu\n"
          ],
          "name": "stdout"
        }
      ]
    },
    {
      "cell_type": "code",
      "metadata": {
        "id": "WKcDoLEBm09z"
      },
      "source": [
        "BATCH_SIZE = 32\r\n",
        "EPOCHS = 10"
      ],
      "execution_count": 4,
      "outputs": []
    },
    {
      "cell_type": "code",
      "metadata": {
        "colab": {
          "base_uri": "https://localhost:8080/",
          "height": 151,
          "referenced_widgets": [
            "b13d3087468645769dcd39fdf9fe483d",
            "7f81afb0481c45f18430963a48c1057f",
            "793aa0f110c547c38052fc6f1e24deb3",
            "34f6c42dff924391917b913270404403",
            "31cfcdeda2e744b7b0c02c523089934e",
            "f4d23fc37af3421798dff894665facfa",
            "3a260f155c30495baf84dbf4ab437a57",
            "8992e47443574df6a6bee272ddb69076",
            "b612a8e0a5704b5ca3a6126c10428bd8",
            "b703e337af4d4243a8de688073fe11b9",
            "0111cee0cc254bccb6800d262ab6f316",
            "78f19c3c73ae45a08f8233521a31f506",
            "6d6914421d8641caa339a5f1c186c292",
            "bf251942000946eda9cb0e6de492726a",
            "97306f6aba584f10a74b422ab41957ad",
            "46f5570b7c324e38981a2289daf7ee16"
          ]
        },
        "id": "P9Zwa9Vum6fz",
        "outputId": "a59604ab-56e9-462e-e140-a872d44399a6"
      },
      "source": [
        "# 3. CIFAR10 데이터 다운로드 (train set, test set 분리하기)\r\n",
        "train_dataset = datasets.CIFAR10(root = '../data/CIFAR10',\r\n",
        "                                 train = True,\r\n",
        "                                 download = True,\r\n",
        "                                 transform = transforms.ToTensor())\r\n",
        "test_dataset = datasets.CIFAR10(root = '../data/CIFAR10',\r\n",
        "                                 train = False,\r\n",
        "                                 download = True,\r\n",
        "                                 transform = transforms.ToTensor())\r\n",
        "train_loader = torch.utils.data.DataLoader(dataset = train_dataset,\r\n",
        "                                           batch_size = BATCH_SIZE,\r\n",
        "                                           shuffle = True)\r\n",
        "test_loader = torch.utils.data.DataLoader(dataset = test_dataset,\r\n",
        "                                           batch_size = BATCH_SIZE,\r\n",
        "                                           shuffle = False)"
      ],
      "execution_count": 5,
      "outputs": [
        {
          "output_type": "stream",
          "text": [
            "Downloading https://www.cs.toronto.edu/~kriz/cifar-10-python.tar.gz to ../data/CIFAR10/cifar-10-python.tar.gz\n"
          ],
          "name": "stdout"
        },
        {
          "output_type": "display_data",
          "data": {
            "application/vnd.jupyter.widget-view+json": {
              "model_id": "b13d3087468645769dcd39fdf9fe483d",
              "version_minor": 0,
              "version_major": 2
            },
            "text/plain": [
              "HBox(children=(FloatProgress(value=1.0, bar_style='info', max=1.0), HTML(value='')))"
            ]
          },
          "metadata": {
            "tags": []
          }
        },
        {
          "output_type": "stream",
          "text": [
            "Failed download. Trying https -> http instead. Downloading http://www.cs.toronto.edu/~kriz/cifar-10-python.tar.gz to ../data/CIFAR10/cifar-10-python.tar.gz\n"
          ],
          "name": "stdout"
        },
        {
          "output_type": "display_data",
          "data": {
            "application/vnd.jupyter.widget-view+json": {
              "model_id": "b612a8e0a5704b5ca3a6126c10428bd8",
              "version_minor": 0,
              "version_major": 2
            },
            "text/plain": [
              "HBox(children=(FloatProgress(value=1.0, bar_style='info', max=1.0), HTML(value='')))"
            ]
          },
          "metadata": {
            "tags": []
          }
        },
        {
          "output_type": "stream",
          "text": [
            "Extracting ../data/CIFAR10/cifar-10-python.tar.gz to ../data/CIFAR10\n",
            "Files already downloaded and verified\n"
          ],
          "name": "stdout"
        }
      ]
    },
    {
      "cell_type": "code",
      "metadata": {
        "colab": {
          "base_uri": "https://localhost:8080/"
        },
        "id": "hix0KYn-n4sN",
        "outputId": "a5ab8066-b0a9-4878-c252-ff2b89523a59"
      },
      "source": [
        "# 4. 데이터 확인하기\r\n",
        "for(x_train, y_train) in train_loader:\r\n",
        "  print('x_trian: ',x_train.size(),x_train.type())  # 32개의 이미지 데이터가 1개의 미니배치를 구성하고 있고 가로 32개, 세로 32개의 픽셀로 구성돼 있고 채널이 3이므로 빨강,초록,파랑 색상으로 이뤄진, 다시말해 컬러로 이뤄진 이미지 데이터라는 것을 확인할 수 있다.\r\n",
        "  print('y_trian: ',y_train.size(),y_train.type())  # 32개의 이미지 데이터 각각에 대해 label 값이 1개씩 존재하기 때문에 32개의 값을 갖고 있는 것을 확인할 수 있다.\r\n",
        "  break"
      ],
      "execution_count": 6,
      "outputs": [
        {
          "output_type": "stream",
          "text": [
            "x_trian:  torch.Size([32, 3, 32, 32]) torch.FloatTensor\n",
            "y_trian:  torch.Size([32]) torch.LongTensor\n"
          ],
          "name": "stdout"
        }
      ]
    },
    {
      "cell_type": "code",
      "metadata": {
        "colab": {
          "base_uri": "https://localhost:8080/",
          "height": 94
        },
        "id": "TP0dlom8ouik",
        "outputId": "8e9e55d0-8a29-495a-efec-236bae6fd8be"
      },
      "source": [
        "# 5. 데이터 확인하기 (1)\r\n",
        "pltsize = 1\r\n",
        "plt.figure(figsize = (10 * pltsize, pltsize))\r\n",
        "for i in range(10):\r\n",
        "  plt.subplot(1, 10, i+1)\r\n",
        "  plt.axis('off')\r\n",
        "  plt.imshow(np.transpose(x_train[i],(1,2,0)))\r\n",
        "  plt.title('Class '+ str(y_train[i].item()))"
      ],
      "execution_count": 7,
      "outputs": [
        {
          "output_type": "display_data",
          "data": {
            "image/png": "[encoded data removed]",
            "text/plain": [
              "<Figure size 720x72 with 10 Axes>"
            ]
          },
          "metadata": {
            "tags": [],
            "needs_background": "light"
          }
        }
      ]
    },
    {
      "cell_type": "code",
      "metadata": {
        "id": "pOcvJlE9pO5G"
      },
      "source": [
        "# 6. MLP 모델 설계하기\r\n",
        "class Net(nn.Module):\r\n",
        "  def __init__(self):\r\n",
        "    super(Net, self).__init__()\r\n",
        "    self.fc1 = nn.Linear(32 * 32 * 3, 512)\r\n",
        "    self.fc2 = nn.Linear(512, 256)\r\n",
        "    self.fc3 = nn.Linear(256, 10)\r\n",
        "\r\n",
        "  def forward(self,x):\r\n",
        "    x = x.view(-1,32 * 32 * 3)\r\n",
        "    x = self.fc1(x)\r\n",
        "    x = F.relu(x)\r\n",
        "    x = self.fc2(x)\r\n",
        "    x = F.relu(x)\r\n",
        "    x = self.fc3(x)\r\n",
        "    x = F.log_softmax(x, dim = 1)\r\n",
        "    return x"
      ],
      "execution_count": 8,
      "outputs": []
    },
    {
      "cell_type": "code",
      "metadata": {
        "colab": {
          "base_uri": "https://localhost:8080/"
        },
        "id": "R-xgcLdlqSO1",
        "outputId": "1775fb0c-ec73-4fd5-abce-e89821626c9f"
      },
      "source": [
        "# 7. optimizer , objective function 설정\r\n",
        "model = Net().to(DEVICE)\r\n",
        "optimizer = torch.optim.Adam(model.parameters(), lr = 0.001)\r\n",
        "criterion = nn.CrossEntropyLoss()\r\n",
        "\r\n",
        "print(model)"
      ],
      "execution_count": 9,
      "outputs": [
        {
          "output_type": "stream",
          "text": [
            "Net(\n",
            "  (fc1): Linear(in_features=3072, out_features=512, bias=True)\n",
            "  (fc2): Linear(in_features=512, out_features=256, bias=True)\n",
            "  (fc3): Linear(in_features=256, out_features=10, bias=True)\n",
            ")\n"
          ],
          "name": "stdout"
        }
      ]
    },
    {
      "cell_type": "code",
      "metadata": {
        "id": "bnn3D6FgrWQV"
      },
      "source": [
        "# 8. MLP 모델 학습을 진행하며 학습 데이터에 대한 모델 성능을 확인하는 함수 정의\r\n",
        "def train(model,train_loader, optimizer, log_interval):\r\n",
        "  model.train() \r\n",
        "  for batch_idx,(image,label) in enumerate(train_loader):\r\n",
        "    image = image.to(DEVICE)\r\n",
        "    label = label.to(DEVICE)\r\n",
        "    optimizer.zero_grad()\r\n",
        "    output = model(image)\r\n",
        "    loss = criterion(output, label)\r\n",
        "    loss.backward()\r\n",
        "    optimizer.step() \r\n",
        "    \r\n",
        "    if batch_idx % log_interval == 0:\r\n",
        "      print('Train Epoch: {} [{}/{}({:.0f}%(]\\tTrain Loss: {:.6f}'.format(\r\n",
        "          Epoch, batch_idx * len(image),\r\n",
        "          len(train_loader.dataset), 100. * batch_idx / len(train_loader),\r\n",
        "          loss.item()))"
      ],
      "execution_count": 10,
      "outputs": []
    },
    {
      "cell_type": "code",
      "metadata": {
        "id": "eeuDaBu1sNfS"
      },
      "source": [
        "# 9. 학습되는 과정 속에서 검증 데이터에 대한 모델 성능을 확인하는 함수 정의\r\n",
        "def evaluate(model, test_loader):\r\n",
        "  model.eval()\r\n",
        "  test_loss = 0\r\n",
        "  correct = 0\r\n",
        "\r\n",
        "  with torch.no_grad():\r\n",
        "    for image, label in test_loader:\r\n",
        "      image = image.to(DEVICE)\r\n",
        "      label = label.to(DEVICE)\r\n",
        "      output = model(image)\r\n",
        "      test_loss += criterion(output, label).item()\r\n",
        "      prediction = output.max(1, keepdim = True)[1]\r\n",
        "      correct += prediction.eq(label.view_as(prediction)).sum().item()\r\n",
        "\r\n",
        "    test_loss /= len(test_loader.dataset)\r\n",
        "    test_accuracy = 100. * correct / len(test_loader.dataset)\r\n",
        "    return test_loss, test_accuracy"
      ],
      "execution_count": 15,
      "outputs": []
    },
    {
      "cell_type": "code",
      "metadata": {
        "colab": {
          "base_uri": "https://localhost:8080/"
        },
        "id": "6N4dLCnjvXhR",
        "outputId": "22151031-5a6e-4320-feb7-5dd8056861b1"
      },
      "source": [
        "# 10. MLP 학습을 실행하며 Train, Test Set의 Loss 및 정확도 확인\r\n",
        "for Epoch in range(1, EPOCHS+1):\r\n",
        "  train(model, train_loader, optimizer, log_interval = 200)\r\n",
        "  test_loss, test_accuracy = evaluate(model, test_loader)\r\n",
        "  print('\\n[EPOCH: {}], \\tTest Loss: {:.4f}, \\tTest Accuracy: {:.2f} %\\n'.\r\n",
        "        format(Epoch, test_loss, test_accuracy))"
      ],
      "execution_count": 16,
      "outputs": [
        {
          "output_type": "stream",
          "text": [
            "Train Epoch: 1 [0/50000(0%(]\tTrain Loss: 1.232691\n",
            "Train Epoch: 1 [6400/50000(13%(]\tTrain Loss: 1.590705\n",
            "Train Epoch: 1 [12800/50000(26%(]\tTrain Loss: 1.764307\n",
            "Train Epoch: 1 [19200/50000(38%(]\tTrain Loss: 1.893527\n",
            "Train Epoch: 1 [25600/50000(51%(]\tTrain Loss: 1.699515\n",
            "Train Epoch: 1 [32000/50000(64%(]\tTrain Loss: 1.304310\n",
            "Train Epoch: 1 [38400/50000(77%(]\tTrain Loss: 1.699861\n",
            "Train Epoch: 1 [44800/50000(90%(]\tTrain Loss: 1.511879\n",
            "\n",
            "[EPOCH: 1], \tTest Loss: 0.0487, \tTest Accuracy: 43.34 %\n",
            "\n",
            "Train Epoch: 2 [0/50000(0%(]\tTrain Loss: 1.552325\n",
            "Train Epoch: 2 [6400/50000(13%(]\tTrain Loss: 1.542080\n",
            "Train Epoch: 2 [12800/50000(26%(]\tTrain Loss: 1.626427\n",
            "Train Epoch: 2 [19200/50000(38%(]\tTrain Loss: 1.590873\n",
            "Train Epoch: 2 [25600/50000(51%(]\tTrain Loss: 1.389738\n",
            "Train Epoch: 2 [32000/50000(64%(]\tTrain Loss: 1.414412\n",
            "Train Epoch: 2 [38400/50000(77%(]\tTrain Loss: 1.398971\n",
            "Train Epoch: 2 [44800/50000(90%(]\tTrain Loss: 1.585350\n",
            "\n",
            "[EPOCH: 2], \tTest Loss: 0.0488, \tTest Accuracy: 43.63 %\n",
            "\n",
            "Train Epoch: 3 [0/50000(0%(]\tTrain Loss: 1.591244\n",
            "Train Epoch: 3 [6400/50000(13%(]\tTrain Loss: 1.629876\n",
            "Train Epoch: 3 [12800/50000(26%(]\tTrain Loss: 1.658106\n",
            "Train Epoch: 3 [19200/50000(38%(]\tTrain Loss: 1.588936\n",
            "Train Epoch: 3 [25600/50000(51%(]\tTrain Loss: 1.925594\n",
            "Train Epoch: 3 [32000/50000(64%(]\tTrain Loss: 1.539855\n",
            "Train Epoch: 3 [38400/50000(77%(]\tTrain Loss: 1.707283\n",
            "Train Epoch: 3 [44800/50000(90%(]\tTrain Loss: 1.253476\n",
            "\n",
            "[EPOCH: 3], \tTest Loss: 0.0481, \tTest Accuracy: 44.77 %\n",
            "\n",
            "Train Epoch: 4 [0/50000(0%(]\tTrain Loss: 1.419999\n",
            "Train Epoch: 4 [6400/50000(13%(]\tTrain Loss: 1.434960\n",
            "Train Epoch: 4 [12800/50000(26%(]\tTrain Loss: 1.575841\n",
            "Train Epoch: 4 [19200/50000(38%(]\tTrain Loss: 1.446312\n",
            "Train Epoch: 4 [25600/50000(51%(]\tTrain Loss: 1.376148\n",
            "Train Epoch: 4 [32000/50000(64%(]\tTrain Loss: 1.520460\n",
            "Train Epoch: 4 [38400/50000(77%(]\tTrain Loss: 1.599625\n",
            "Train Epoch: 4 [44800/50000(90%(]\tTrain Loss: 1.462087\n",
            "\n",
            "[EPOCH: 4], \tTest Loss: 0.0464, \tTest Accuracy: 47.42 %\n",
            "\n",
            "Train Epoch: 5 [0/50000(0%(]\tTrain Loss: 1.471630\n",
            "Train Epoch: 5 [6400/50000(13%(]\tTrain Loss: 1.267584\n",
            "Train Epoch: 5 [12800/50000(26%(]\tTrain Loss: 1.705190\n",
            "Train Epoch: 5 [19200/50000(38%(]\tTrain Loss: 1.277209\n",
            "Train Epoch: 5 [25600/50000(51%(]\tTrain Loss: 1.697577\n",
            "Train Epoch: 5 [32000/50000(64%(]\tTrain Loss: 1.339862\n",
            "Train Epoch: 5 [38400/50000(77%(]\tTrain Loss: 1.338501\n",
            "Train Epoch: 5 [44800/50000(90%(]\tTrain Loss: 1.558219\n",
            "\n",
            "[EPOCH: 5], \tTest Loss: 0.0451, \tTest Accuracy: 48.49 %\n",
            "\n",
            "Train Epoch: 6 [0/50000(0%(]\tTrain Loss: 1.181660\n",
            "Train Epoch: 6 [6400/50000(13%(]\tTrain Loss: 1.446116\n",
            "Train Epoch: 6 [12800/50000(26%(]\tTrain Loss: 1.594766\n",
            "Train Epoch: 6 [19200/50000(38%(]\tTrain Loss: 1.260305\n",
            "Train Epoch: 6 [25600/50000(51%(]\tTrain Loss: 1.184964\n",
            "Train Epoch: 6 [32000/50000(64%(]\tTrain Loss: 1.296823\n",
            "Train Epoch: 6 [38400/50000(77%(]\tTrain Loss: 1.016425\n",
            "Train Epoch: 6 [44800/50000(90%(]\tTrain Loss: 1.510150\n",
            "\n",
            "[EPOCH: 6], \tTest Loss: 0.0462, \tTest Accuracy: 47.41 %\n",
            "\n",
            "Train Epoch: 7 [0/50000(0%(]\tTrain Loss: 1.610467\n",
            "Train Epoch: 7 [6400/50000(13%(]\tTrain Loss: 1.342787\n",
            "Train Epoch: 7 [12800/50000(26%(]\tTrain Loss: 1.472562\n",
            "Train Epoch: 7 [19200/50000(38%(]\tTrain Loss: 1.333784\n",
            "Train Epoch: 7 [25600/50000(51%(]\tTrain Loss: 1.855686\n",
            "Train Epoch: 7 [32000/50000(64%(]\tTrain Loss: 0.966208\n",
            "Train Epoch: 7 [38400/50000(77%(]\tTrain Loss: 1.231186\n",
            "Train Epoch: 7 [44800/50000(90%(]\tTrain Loss: 1.594447\n",
            "\n",
            "[EPOCH: 7], \tTest Loss: 0.0448, \tTest Accuracy: 48.77 %\n",
            "\n",
            "Train Epoch: 8 [0/50000(0%(]\tTrain Loss: 1.666077\n",
            "Train Epoch: 8 [6400/50000(13%(]\tTrain Loss: 1.637378\n",
            "Train Epoch: 8 [12800/50000(26%(]\tTrain Loss: 1.590495\n",
            "Train Epoch: 8 [19200/50000(38%(]\tTrain Loss: 1.542162\n",
            "Train Epoch: 8 [25600/50000(51%(]\tTrain Loss: 1.204556\n",
            "Train Epoch: 8 [32000/50000(64%(]\tTrain Loss: 1.312605\n",
            "Train Epoch: 8 [38400/50000(77%(]\tTrain Loss: 1.392319\n",
            "Train Epoch: 8 [44800/50000(90%(]\tTrain Loss: 1.268523\n",
            "\n",
            "[EPOCH: 8], \tTest Loss: 0.0450, \tTest Accuracy: 48.89 %\n",
            "\n",
            "Train Epoch: 9 [0/50000(0%(]\tTrain Loss: 1.107378\n",
            "Train Epoch: 9 [6400/50000(13%(]\tTrain Loss: 1.097592\n",
            "Train Epoch: 9 [12800/50000(26%(]\tTrain Loss: 1.051668\n",
            "Train Epoch: 9 [19200/50000(38%(]\tTrain Loss: 1.289363\n",
            "Train Epoch: 9 [25600/50000(51%(]\tTrain Loss: 1.243120\n",
            "Train Epoch: 9 [32000/50000(64%(]\tTrain Loss: 1.416591\n",
            "Train Epoch: 9 [38400/50000(77%(]\tTrain Loss: 1.397102\n",
            "Train Epoch: 9 [44800/50000(90%(]\tTrain Loss: 1.228857\n",
            "\n",
            "[EPOCH: 9], \tTest Loss: 0.0455, \tTest Accuracy: 48.54 %\n",
            "\n",
            "Train Epoch: 10 [0/50000(0%(]\tTrain Loss: 1.536520\n",
            "Train Epoch: 10 [6400/50000(13%(]\tTrain Loss: 1.433597\n",
            "Train Epoch: 10 [12800/50000(26%(]\tTrain Loss: 1.250671\n",
            "Train Epoch: 10 [19200/50000(38%(]\tTrain Loss: 1.066939\n",
            "Train Epoch: 10 [25600/50000(51%(]\tTrain Loss: 1.402307\n",
            "Train Epoch: 10 [32000/50000(64%(]\tTrain Loss: 0.949940\n",
            "Train Epoch: 10 [38400/50000(77%(]\tTrain Loss: 1.198949\n",
            "Train Epoch: 10 [44800/50000(90%(]\tTrain Loss: 1.543696\n",
            "\n",
            "[EPOCH: 10], \tTest Loss: 0.0459, \tTest Accuracy: 48.14 %\n",
            "\n"
          ],
          "name": "stdout"
        }
      ]
    },
    {
      "cell_type": "markdown",
      "metadata": {
        "id": "QGfo2yDlxY4C"
      },
      "source": [
        "사람의 손글씨 데이터인 흑백 이밎 데이터 MNIST 같은 경우, 기본적인 MLP 모델을 이용했을 때 검증 데이터셋 기준 정확도가 90% 수준으로 높은 수치의 성능을 갖는 인공지능 모델을 쉽게 구현할 수 있었습니다. 하지만 컬러 이미지 데이터인 CIFAR-10 과 같으 경우 검증 데이터셋 기준으로 정확도가 90% 수준으로 높은 수치의 성능을 갖는 인공지능 모델과 동일하게 설계해도 정확도가 48% 수준밖에 되지않는다.\r\n",
        "\r\n",
        "그 이유는 흑백 데이터인 MNIST와 같은 경우 구조가 단순해 비교적 덜 민감하기도 하며 채널 수도 1이기 때문에 1차원으로 펼쳐 이용되는 것에 덜 민감하지만, CIFAR -10 데이터는 컬러 이미지이기 때문에 채널 수도 3이며 32 * 32 크기의 2차원 이미지가 3개 겹쳐 있어 모양을 형성하는 이미지를 32 * 32 * 3 1차원으로 펼쳐 놓으므로 이미지의 특징을 잃어버리는 것에 더욱 민감하다."
      ]
    },
    {
      "cell_type": "markdown",
      "metadata": {
        "id": "WIb3lk3Oy8eC"
      },
      "source": [
        "# 위에서 구현한 MLP를 CNN으로 변경해 구현하기"
      ]
    },
    {
      "cell_type": "code",
      "metadata": {
        "colab": {
          "base_uri": "https://localhost:8080/",
          "height": 1000
        },
        "id": "tUyRBOBezEQI",
        "outputId": "dc9daffa-4abb-4683-bb8b-ccff5251958f"
      },
      "source": [
        "# 1. 사용할 모듈 임포트하기\r\n",
        "import numpy as np\r\n",
        "import matplotlib.pyplot as plt\r\n",
        "\r\n",
        "import torch\r\n",
        "import torch.nn as nn\r\n",
        "import torch.nn.functional as F\r\n",
        "from torchvision import transforms, datasets \r\n",
        "\r\n",
        "# 2. 딥러닝 모델을 설계할 때 활용하는 장비 확인\r\n",
        "if torch.cuda.is_available():\r\n",
        "  DEVICE = torch.device('cuda')\r\n",
        "else:\r\n",
        "  DEVICE = torch.device('cpu')\r\n",
        "print('사용할 파이토치 버전: ', torch.__version__, 'Device: ',DEVICE)\r\n",
        "\r\n",
        "BATCH_SIZE = 32\r\n",
        "EPOCHS = 10\r\n",
        "\r\n",
        "# 3. CIFAR10 데이터 다운로드 (train set, test set 분리하기)\r\n",
        "train_dataset = datasets.CIFAR10(root = '../data/CIFAR10',\r\n",
        "                                 train = True,\r\n",
        "                                 download = True,\r\n",
        "                                 transform = transforms.ToTensor())\r\n",
        "test_dataset = datasets.CIFAR10(root = '../data/CIFAR10',\r\n",
        "                                 train = False,\r\n",
        "                                 download = True,\r\n",
        "                                 transform = transforms.ToTensor())\r\n",
        "train_loader = torch.utils.data.DataLoader(dataset = train_dataset,\r\n",
        "                                           batch_size = BATCH_SIZE,\r\n",
        "                                           shuffle = True)\r\n",
        "test_loader = torch.utils.data.DataLoader(dataset = test_dataset,\r\n",
        "                                           batch_size = BATCH_SIZE,\r\n",
        "                                           shuffle = False)\r\n",
        "\r\n",
        "# 4. 데이터 확인하기\r\n",
        "for(x_train, y_train) in train_loader:\r\n",
        "  print('x_trian: ',x_train.size(),x_train.type())  # 32개의 이미지 데이터가 1개의 미니배치를 구성하고 있고 가로 32개, 세로 32개의 픽셀로 구성돼 있고 채널이 3이므로 빨강,초록,파랑 색상으로 이뤄진, 다시말해 컬러로 이뤄진 이미지 데이터라는 것을 확인할 수 있다.\r\n",
        "  print('y_trian: ',y_train.size(),y_train.type())  # 32개의 이미지 데이터 각각에 대해 label 값이 1개씩 존재하기 때문에 32개의 값을 갖고 있는 것을 확인할 수 있다.\r\n",
        "  break\r\n",
        "\r\n",
        "# 5. 데이터 확인하기 (1)\r\n",
        "pltsize = 1\r\n",
        "plt.figure(figsize = (10 * pltsize, pltsize))\r\n",
        "for i in range(10):\r\n",
        "  plt.subplot(1, 10, i+1)\r\n",
        "  plt.axis('off')\r\n",
        "  plt.imshow(np.transpose(x_train[i],(1,2,0)))\r\n",
        "  plt.title('Class '+ str(y_train[i].item()))\r\n",
        "\r\n",
        "# 6. Convolutional Neural Network(CNN) 모델 설계하기\r\n",
        "class Net(nn.Module): # CNN도 MLP와 만찬가지로 nn.Module 클래스를 상속받는 클래스를 정의함\r\n",
        "  def __init__(self): # CNN 클래스의 인스턴스를 생성했을 때 지니는 성질을 정의해주는 메서드\r\n",
        "    super(Net, self).__init__() # nn.Module 내에 있는 메서드를 상속받아 이용\r\n",
        "    self.conv1 = nn.Conv2d( # 2차원의 이미지 데이터를 nn.Conv2d 메서드를 이용해 합성곱 연산을 하는 필터를 정의한다.\r\n",
        "        in_channels = 3, # 이미지에 직접 합성곱 연산을 진행하는 필터의 크기는 상관없지만, 채널 수를 이미지의 채널 수와 동일하게 맞춰야 한다. \r\n",
        "                         # 동일한 위치에 있으며 앞뒤로 존재하는 red,green,blue에 픽셀에 대해 동시에 합성곱 연산을 진해하기 위해서이다. 따라서 이미지의 채널 수와 동일하게 채널 수를 3으로 설정하였다.\r\n",
        "        out_channels = 8, # 합성곱 연산을 진행하는 필터의 개수를 설정한다.\r\n",
        "        kernel_size = 3, # 필터의 크기를 설정해주는 부분이다. , 3 * 3의 필터가 이미지 위를 돌아다니면서 겹치는 영역에 대해 9개의 픽샐 값과 필터내에 있는 9개의 파라미터 값을 합성곱 연산을 한다.\r\n",
        "        padding = 1) # 세부 속성이 설정된 필터가 이미지 위를 돌아다닐 때 이미지의 구석 부분은 중앙 부분에 비해 상대적으로 덜 연산된다. \r\n",
        "                     # 필터가 돌아다니면서 겹치는 영역이 구석보다 중앙 부분이 당연히 자주 겹친다. 이를 방지하기 위해서 가장자리에 0을 채워 이미지 구석 부분과 중앙 부분이 합성곱연산 되는 횟수를 \r\n",
        "                     # 동일하게 맞춰주는 Zero padding을 설정해주는 부분이다. 1로 설정하면 겉에 1층으로 0을 채워준다는 것을 의미한다.\r\n",
        "    self.conv2 = nn.Conv2d(\r\n",
        "        in_channels = 8,\r\n",
        "        out_channels = 16,\r\n",
        "        kernel_size = 3,\r\n",
        "        padding = 1)\r\n",
        "    self.pool = nn.MaxPool2d( # 합성곱을 통해 Feature Map이 생성됐을 때, Feature Map을 전부 이용하는 것이 아니라 부분적으로 이용한다.\r\n",
        "        kernel_size = 2, # 생성된 Feature Map 내 2 * 2 크기의 필터가 돌아다니면서 가장 큰 Feature Map 값을 추출하는 것을 의미한다. 4개 값 중 1개의 값만 이용하고 나머지 3개 값은 버려진다.\r\n",
        "        stride = 2) # stride는 2 * 2 크기의 필터가 MaxPooling하는 과정에서 Feature Map 위에서 움직이는 단위를 설정하는 부분이다. 이 예제에서는 2단위로 움직임\r\n",
        "    self.fc1 = nn.Linear(8 * 8 * 16, 64)\r\n",
        "    self.fc2 = nn.Linear(64, 32)\r\n",
        "    self.fc3 = nn.Linear(32, 10)\r\n",
        "\r\n",
        "  def forward(self,x):\r\n",
        "    x = self.conv1(x)\r\n",
        "    x = F.relu(x)\r\n",
        "    x = self.pool(x)\r\n",
        "    x = self.conv2(x)\r\n",
        "    x = F.relu(x)\r\n",
        "    x = self.pool(x)\r\n",
        "\r\n",
        "    x = x.view(-1, 8 * 8 * 16)\r\n",
        "    x = self.fc1(x)\r\n",
        "    x = F.relu(x)\r\n",
        "    x = self.fc2(x)\r\n",
        "    x = F.relu(x)\r\n",
        "    x = self.fc3(x)\r\n",
        "    x = F.log_softmax(x, dim = 1)\r\n",
        "    return x\r\n",
        "\r\n",
        "# 7. optimizer , objective function 설정\r\n",
        "model = Net().to(DEVICE)\r\n",
        "optimizer = torch.optim.Adam(model.parameters(), lr = 0.001)\r\n",
        "criterion = nn.CrossEntropyLoss()\r\n",
        "\r\n",
        "print(model)\r\n",
        "\r\n",
        "# 8. MLP 모델 학습을 진행하며 학습 데이터에 대한 모델 성능을 확인하는 함수 정의\r\n",
        "def train(model,train_loader, optimizer, log_interval):\r\n",
        "  model.train() \r\n",
        "  for batch_idx,(image,label) in enumerate(train_loader):\r\n",
        "    image = image.to(DEVICE)\r\n",
        "    label = label.to(DEVICE)\r\n",
        "    optimizer.zero_grad()\r\n",
        "    output = model(image)\r\n",
        "    loss = criterion(output, label)\r\n",
        "    loss.backward()\r\n",
        "    optimizer.step() \r\n",
        "    \r\n",
        "    if batch_idx % log_interval == 0:\r\n",
        "      print('Train Epoch: {} [{}/{}({:.0f}%(]\\tTrain Loss: {:.6f}'.format(\r\n",
        "          Epoch, batch_idx * len(image),\r\n",
        "          len(train_loader.dataset), 100. * batch_idx / len(train_loader),\r\n",
        "          loss.item()))\r\n",
        "      \r\n",
        "# 9. 학습되는 과정 속에서 검증 데이터에 대한 모델 성능을 확인하는 함수 정의\r\n",
        "def evaluate(model, test_loader):\r\n",
        "  model.eval()\r\n",
        "  test_loss = 0\r\n",
        "  correct = 0\r\n",
        "\r\n",
        "  with torch.no_grad():\r\n",
        "    for image, label in test_loader:\r\n",
        "      image = image.to(DEVICE)\r\n",
        "      label = label.to(DEVICE)\r\n",
        "      output = model(image)\r\n",
        "      test_loss += criterion(output, label).item()\r\n",
        "      prediction = output.max(1, keepdim = True)[1]\r\n",
        "      correct += prediction.eq(label.view_as(prediction)).sum().item()\r\n",
        "\r\n",
        "    test_loss /= len(test_loader.dataset)\r\n",
        "    test_accuracy = 100. * correct / len(test_loader.dataset)\r\n",
        "    return test_loss, test_accuracy\r\n",
        "\r\n",
        "# 10. MLP 학습을 실행하며 Train, Test Set의 Loss 및 정확도 확인\r\n",
        "for Epoch in range(1, EPOCHS+1):\r\n",
        "  train(model, train_loader, optimizer, log_interval = 200)\r\n",
        "  test_loss, test_accuracy = evaluate(model, test_loader)\r\n",
        "  print('\\n[EPOCH: {}], \\tTest Loss: {:.4f}, \\tTest Accuracy: {:.2f} %\\n'.\r\n",
        "        format(Epoch, test_loss, test_accuracy))"
      ],
      "execution_count": 19,
      "outputs": [
        {
          "output_type": "stream",
          "text": [
            "사용할 파이토치 버전:  1.7.0+cu101 Device:  cpu\n",
            "Files already downloaded and verified\n",
            "Files already downloaded and verified\n",
            "x_trian:  torch.Size([32, 3, 32, 32]) torch.FloatTensor\n",
            "y_trian:  torch.Size([32]) torch.LongTensor\n",
            "Net(\n",
            "  (conv1): Conv2d(3, 8, kernel_size=(3, 3), stride=(1, 1), padding=(1, 1))\n",
            "  (conv2): Conv2d(8, 16, kernel_size=(3, 3), stride=(1, 1), padding=(1, 1))\n",
            "  (pool): MaxPool2d(kernel_size=2, stride=2, padding=0, dilation=1, ceil_mode=False)\n",
            "  (fc1): Linear(in_features=1024, out_features=64, bias=True)\n",
            "  (fc2): Linear(in_features=64, out_features=32, bias=True)\n",
            "  (fc3): Linear(in_features=32, out_features=10, bias=True)\n",
            ")\n",
            "Train Epoch: 1 [0/50000(0%(]\tTrain Loss: 2.312462\n",
            "Train Epoch: 1 [6400/50000(13%(]\tTrain Loss: 1.896890\n",
            "Train Epoch: 1 [12800/50000(26%(]\tTrain Loss: 1.974348\n",
            "Train Epoch: 1 [19200/50000(38%(]\tTrain Loss: 1.534730\n",
            "Train Epoch: 1 [25600/50000(51%(]\tTrain Loss: 1.633149\n",
            "Train Epoch: 1 [32000/50000(64%(]\tTrain Loss: 1.686095\n",
            "Train Epoch: 1 [38400/50000(77%(]\tTrain Loss: 1.330111\n",
            "Train Epoch: 1 [44800/50000(90%(]\tTrain Loss: 1.434261\n",
            "\n",
            "[EPOCH: 1], \tTest Loss: 0.0464, \tTest Accuracy: 46.50 %\n",
            "\n",
            "Train Epoch: 2 [0/50000(0%(]\tTrain Loss: 1.466275\n",
            "Train Epoch: 2 [6400/50000(13%(]\tTrain Loss: 1.407928\n",
            "Train Epoch: 2 [12800/50000(26%(]\tTrain Loss: 1.712984\n",
            "Train Epoch: 2 [19200/50000(38%(]\tTrain Loss: 1.529588\n",
            "Train Epoch: 2 [25600/50000(51%(]\tTrain Loss: 1.581756\n",
            "Train Epoch: 2 [32000/50000(64%(]\tTrain Loss: 1.371036\n",
            "Train Epoch: 2 [38400/50000(77%(]\tTrain Loss: 1.252553\n",
            "Train Epoch: 2 [44800/50000(90%(]\tTrain Loss: 1.303324\n",
            "\n",
            "[EPOCH: 2], \tTest Loss: 0.0428, \tTest Accuracy: 50.56 %\n",
            "\n",
            "Train Epoch: 3 [0/50000(0%(]\tTrain Loss: 1.390009\n",
            "Train Epoch: 3 [6400/50000(13%(]\tTrain Loss: 1.429964\n",
            "Train Epoch: 3 [12800/50000(26%(]\tTrain Loss: 1.651747\n",
            "Train Epoch: 3 [19200/50000(38%(]\tTrain Loss: 1.172196\n",
            "Train Epoch: 3 [25600/50000(51%(]\tTrain Loss: 1.234044\n",
            "Train Epoch: 3 [32000/50000(64%(]\tTrain Loss: 1.574908\n",
            "Train Epoch: 3 [38400/50000(77%(]\tTrain Loss: 1.333599\n",
            "Train Epoch: 3 [44800/50000(90%(]\tTrain Loss: 1.554160\n",
            "\n",
            "[EPOCH: 3], \tTest Loss: 0.0390, \tTest Accuracy: 55.71 %\n",
            "\n",
            "Train Epoch: 4 [0/50000(0%(]\tTrain Loss: 1.026775\n",
            "Train Epoch: 4 [6400/50000(13%(]\tTrain Loss: 1.129529\n",
            "Train Epoch: 4 [12800/50000(26%(]\tTrain Loss: 1.662858\n",
            "Train Epoch: 4 [19200/50000(38%(]\tTrain Loss: 1.699599\n",
            "Train Epoch: 4 [25600/50000(51%(]\tTrain Loss: 0.929144\n",
            "Train Epoch: 4 [32000/50000(64%(]\tTrain Loss: 1.130513\n",
            "Train Epoch: 4 [38400/50000(77%(]\tTrain Loss: 1.072825\n",
            "Train Epoch: 4 [44800/50000(90%(]\tTrain Loss: 1.113061\n",
            "\n",
            "[EPOCH: 4], \tTest Loss: 0.0389, \tTest Accuracy: 56.28 %\n",
            "\n",
            "Train Epoch: 5 [0/50000(0%(]\tTrain Loss: 1.170613\n",
            "Train Epoch: 5 [6400/50000(13%(]\tTrain Loss: 0.724538\n",
            "Train Epoch: 5 [12800/50000(26%(]\tTrain Loss: 0.838351\n",
            "Train Epoch: 5 [19200/50000(38%(]\tTrain Loss: 1.086532\n",
            "Train Epoch: 5 [25600/50000(51%(]\tTrain Loss: 1.162225\n",
            "Train Epoch: 5 [32000/50000(64%(]\tTrain Loss: 0.974444\n",
            "Train Epoch: 5 [38400/50000(77%(]\tTrain Loss: 1.397934\n",
            "Train Epoch: 5 [44800/50000(90%(]\tTrain Loss: 0.937090\n",
            "\n",
            "[EPOCH: 5], \tTest Loss: 0.0363, \tTest Accuracy: 59.28 %\n",
            "\n",
            "Train Epoch: 6 [0/50000(0%(]\tTrain Loss: 1.135076\n",
            "Train Epoch: 6 [6400/50000(13%(]\tTrain Loss: 1.150506\n",
            "Train Epoch: 6 [12800/50000(26%(]\tTrain Loss: 1.036954\n",
            "Train Epoch: 6 [19200/50000(38%(]\tTrain Loss: 1.082400\n",
            "Train Epoch: 6 [25600/50000(51%(]\tTrain Loss: 0.977095\n",
            "Train Epoch: 6 [32000/50000(64%(]\tTrain Loss: 1.233088\n",
            "Train Epoch: 6 [38400/50000(77%(]\tTrain Loss: 1.184638\n",
            "Train Epoch: 6 [44800/50000(90%(]\tTrain Loss: 1.096609\n",
            "\n",
            "[EPOCH: 6], \tTest Loss: 0.0364, \tTest Accuracy: 59.17 %\n",
            "\n",
            "Train Epoch: 7 [0/50000(0%(]\tTrain Loss: 0.900326\n",
            "Train Epoch: 7 [6400/50000(13%(]\tTrain Loss: 1.207744\n",
            "Train Epoch: 7 [12800/50000(26%(]\tTrain Loss: 1.193869\n",
            "Train Epoch: 7 [19200/50000(38%(]\tTrain Loss: 1.096697\n",
            "Train Epoch: 7 [25600/50000(51%(]\tTrain Loss: 1.059061\n",
            "Train Epoch: 7 [32000/50000(64%(]\tTrain Loss: 1.130979\n",
            "Train Epoch: 7 [38400/50000(77%(]\tTrain Loss: 0.957751\n",
            "Train Epoch: 7 [44800/50000(90%(]\tTrain Loss: 1.104839\n",
            "\n",
            "[EPOCH: 7], \tTest Loss: 0.0350, \tTest Accuracy: 61.31 %\n",
            "\n",
            "Train Epoch: 8 [0/50000(0%(]\tTrain Loss: 0.977472\n",
            "Train Epoch: 8 [6400/50000(13%(]\tTrain Loss: 1.052629\n",
            "Train Epoch: 8 [12800/50000(26%(]\tTrain Loss: 1.058709\n",
            "Train Epoch: 8 [19200/50000(38%(]\tTrain Loss: 0.963210\n",
            "Train Epoch: 8 [25600/50000(51%(]\tTrain Loss: 1.088248\n",
            "Train Epoch: 8 [32000/50000(64%(]\tTrain Loss: 0.851030\n",
            "Train Epoch: 8 [38400/50000(77%(]\tTrain Loss: 0.972606\n",
            "Train Epoch: 8 [44800/50000(90%(]\tTrain Loss: 1.014932\n",
            "\n",
            "[EPOCH: 8], \tTest Loss: 0.0341, \tTest Accuracy: 61.49 %\n",
            "\n",
            "Train Epoch: 9 [0/50000(0%(]\tTrain Loss: 0.862441\n",
            "Train Epoch: 9 [6400/50000(13%(]\tTrain Loss: 0.586275\n",
            "Train Epoch: 9 [12800/50000(26%(]\tTrain Loss: 0.969097\n",
            "Train Epoch: 9 [19200/50000(38%(]\tTrain Loss: 1.182154\n",
            "Train Epoch: 9 [25600/50000(51%(]\tTrain Loss: 0.949253\n",
            "Train Epoch: 9 [32000/50000(64%(]\tTrain Loss: 1.308210\n",
            "Train Epoch: 9 [38400/50000(77%(]\tTrain Loss: 0.987557\n",
            "Train Epoch: 9 [44800/50000(90%(]\tTrain Loss: 1.099486\n",
            "\n",
            "[EPOCH: 9], \tTest Loss: 0.0337, \tTest Accuracy: 62.01 %\n",
            "\n",
            "Train Epoch: 10 [0/50000(0%(]\tTrain Loss: 0.759355\n",
            "Train Epoch: 10 [6400/50000(13%(]\tTrain Loss: 0.944987\n",
            "Train Epoch: 10 [12800/50000(26%(]\tTrain Loss: 1.266264\n",
            "Train Epoch: 10 [19200/50000(38%(]\tTrain Loss: 0.834505\n",
            "Train Epoch: 10 [25600/50000(51%(]\tTrain Loss: 1.044601\n",
            "Train Epoch: 10 [32000/50000(64%(]\tTrain Loss: 0.992328\n",
            "Train Epoch: 10 [38400/50000(77%(]\tTrain Loss: 0.896239\n",
            "Train Epoch: 10 [44800/50000(90%(]\tTrain Loss: 1.007102\n",
            "\n",
            "[EPOCH: 10], \tTest Loss: 0.0335, \tTest Accuracy: 62.59 %\n",
            "\n"
          ],
          "name": "stdout"
        },
        {
          "output_type": "display_data",
          "data": {
            "image/png": "[encoded data removed]",
            "text/plain": [
              "<Figure size 720x72 with 10 Axes>"
            ]
          },
          "metadata": {
            "tags": [],
            "needs_background": "light"
          }
        }
      ]
    },
    {
      "cell_type": "markdown",
      "metadata": {
        "id": "7_jTvI-P86Ve"
      },
      "source": [
        "기존에 설계한 MLP 모델은 48% 수준에 그친 반면, 합성곱 연산을 추가한 CNN 모델은 성능이 약 63% 수준으로 향상된 것을 확인할 수있다."
      ]
    }
  ]
}