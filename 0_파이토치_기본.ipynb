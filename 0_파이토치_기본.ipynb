{
  "nbformat": 4,
  "nbformat_minor": 0,
  "metadata": {
    "colab": {
      "name": "0. 파이토치 기본.ipynb",
      "provenance": [],
      "collapsed_sections": [],
      "authorship_tag": "ABX9TyPfmd65SjHtTKAbVUNgXT8Z",
      "include_colab_link": true
    },
    "kernelspec": {
      "name": "python3",
      "display_name": "Python 3"
    }
  },
  "cells": [
    {
      "cell_type": "markdown",
      "metadata": {
        "id": "view-in-github",
        "colab_type": "text"
      },
      "source": [
        "<a href=\"https://colab.research.google.com/github/hotdog1029/deeplearning/blob/main/0_%ED%8C%8C%EC%9D%B4%ED%86%A0%EC%B9%98_%EA%B8%B0%EB%B3%B8.ipynb\" target=\"_parent\"><img src=\"https://colab.research.google.com/assets/colab-badge.svg\" alt=\"Open In Colab\"/></a>"
      ]
    },
    {
      "cell_type": "markdown",
      "metadata": {
        "id": "3TOunwry_0Re"
      },
      "source": [
        "텐서(Tensor)란, '데이터를 표현하는 단위"
      ]
    },
    {
      "cell_type": "markdown",
      "metadata": {
        "id": "dwLwkFzy5UZY"
      },
      "source": [
        "# 스칼라(Scalar) \r\n",
        "스칼라는 우리가 흔히 알고 있는 상수값이다. 즉, 하나의 값을 표현할 때 1개의 수치로 표현한 것이다. pytorch 모듈을 이용해 import torch해주고 torch 내 텐서 메서드를 이용해 스칼라 값을 정의 할 수 있다."
      ]
    },
    {
      "cell_type": "code",
      "metadata": {
        "id": "VwgPMQx7_sFU"
      },
      "source": [
        "import torch"
      ],
      "execution_count": 1,
      "outputs": []
    },
    {
      "cell_type": "code",
      "metadata": {
        "id": "1VGEX-ScAF28",
        "colab": {
          "base_uri": "https://localhost:8080/"
        },
        "outputId": "3078c063-f992-4b0e-e6af-5adf4f71a73c"
      },
      "source": [
        "scalar1 = torch.tensor([1.])\r\n",
        "print(scalar1)"
      ],
      "execution_count": 2,
      "outputs": [
        {
          "output_type": "stream",
          "text": [
            "tensor([1.])\n"
          ],
          "name": "stdout"
        }
      ]
    },
    {
      "cell_type": "code",
      "metadata": {
        "id": "6vjkrznRAF52",
        "colab": {
          "base_uri": "https://localhost:8080/"
        },
        "outputId": "0e9fdb49-cb39-42dd-e043-13bf90a6b521"
      },
      "source": [
        "scalar2 = torch.tensor([3.])\r\n",
        "print(scalar2)"
      ],
      "execution_count": 3,
      "outputs": [
        {
          "output_type": "stream",
          "text": [
            "tensor([3.])\n"
          ],
          "name": "stdout"
        }
      ]
    },
    {
      "cell_type": "markdown",
      "metadata": {
        "id": "pqzQO3aL3Umt"
      },
      "source": [
        "스칼라 값 간의 사칙연산 수행 , 사칙연산은 +,-,*/를 이용해 계산할 수 있다."
      ]
    },
    {
      "cell_type": "code",
      "metadata": {
        "colab": {
          "base_uri": "https://localhost:8080/"
        },
        "id": "PS-Snnom3hqo",
        "outputId": "64efcef8-dcc1-49da-a3e1-ff6f6cdbe636"
      },
      "source": [
        "add_scalar = scalar1 + scalar2\r\n",
        "print(add_scalar)"
      ],
      "execution_count": 4,
      "outputs": [
        {
          "output_type": "stream",
          "text": [
            "tensor([4.])\n"
          ],
          "name": "stdout"
        }
      ]
    },
    {
      "cell_type": "code",
      "metadata": {
        "id": "uEJOSk-CAF85",
        "colab": {
          "base_uri": "https://localhost:8080/"
        },
        "outputId": "cce612f4-350e-4942-f9b2-507092507d83"
      },
      "source": [
        "sub_scalar = scalar1 - scalar2\r\n",
        "print(sub_scalar)"
      ],
      "execution_count": 5,
      "outputs": [
        {
          "output_type": "stream",
          "text": [
            "tensor([-2.])\n"
          ],
          "name": "stdout"
        }
      ]
    },
    {
      "cell_type": "code",
      "metadata": {
        "id": "4B0sKEBgAF_v",
        "colab": {
          "base_uri": "https://localhost:8080/"
        },
        "outputId": "ed64d526-56a6-4822-9651-0bdb48e3c098"
      },
      "source": [
        "mul_scalar = scalar1 * scalar2\r\n",
        "print(mul_scalar)"
      ],
      "execution_count": 6,
      "outputs": [
        {
          "output_type": "stream",
          "text": [
            "tensor([3.])\n"
          ],
          "name": "stdout"
        }
      ]
    },
    {
      "cell_type": "code",
      "metadata": {
        "id": "mlRDldSUAGCR",
        "colab": {
          "base_uri": "https://localhost:8080/"
        },
        "outputId": "286bad45-4d00-4bff-b8d4-24e841850715"
      },
      "source": [
        "div_scalar = scalar1 / scalar2\r\n",
        "print(div_scalar)"
      ],
      "execution_count": 7,
      "outputs": [
        {
          "output_type": "stream",
          "text": [
            "tensor([0.3333])\n"
          ],
          "name": "stdout"
        }
      ]
    },
    {
      "cell_type": "markdown",
      "metadata": {
        "id": "aFFerJRu5kVp"
      },
      "source": [
        "스칼라 값 간의 사칙연산 역시 torch 모듈에 내장된 메서드를 이용해 계산할 수 있다."
      ]
    },
    {
      "cell_type": "code",
      "metadata": {
        "id": "4Wewwut6AGEz",
        "colab": {
          "base_uri": "https://localhost:8080/"
        },
        "outputId": "a9b91211-2d26-43b7-df49-6cca9e292402"
      },
      "source": [
        "torch.add(scalar1, scalar2)"
      ],
      "execution_count": 8,
      "outputs": [
        {
          "output_type": "execute_result",
          "data": {
            "text/plain": [
              "tensor([4.])"
            ]
          },
          "metadata": {
            "tags": []
          },
          "execution_count": 8
        }
      ]
    },
    {
      "cell_type": "code",
      "metadata": {
        "id": "V2T1sl2wAGHr",
        "colab": {
          "base_uri": "https://localhost:8080/"
        },
        "outputId": "99a40809-a5c9-4257-ee67-c9caf7b4d391"
      },
      "source": [
        "torch.sub(scalar1, scalar2)"
      ],
      "execution_count": 9,
      "outputs": [
        {
          "output_type": "execute_result",
          "data": {
            "text/plain": [
              "tensor([-2.])"
            ]
          },
          "metadata": {
            "tags": []
          },
          "execution_count": 9
        }
      ]
    },
    {
      "cell_type": "code",
      "metadata": {
        "id": "vxjXhwqrAGKO",
        "colab": {
          "base_uri": "https://localhost:8080/"
        },
        "outputId": "822341e0-fb58-4f3c-96e1-60a846e42317"
      },
      "source": [
        "torch.mul(scalar1, scalar2)"
      ],
      "execution_count": 10,
      "outputs": [
        {
          "output_type": "execute_result",
          "data": {
            "text/plain": [
              "tensor([3.])"
            ]
          },
          "metadata": {
            "tags": []
          },
          "execution_count": 10
        }
      ]
    },
    {
      "cell_type": "code",
      "metadata": {
        "id": "rrIS4npOAGNB",
        "colab": {
          "base_uri": "https://localhost:8080/"
        },
        "outputId": "c3346c36-10dd-40ab-dc63-0ac1946f265b"
      },
      "source": [
        "torch.div(scalar1, scalar2)"
      ],
      "execution_count": 11,
      "outputs": [
        {
          "output_type": "execute_result",
          "data": {
            "text/plain": [
              "tensor([0.3333])"
            ]
          },
          "metadata": {
            "tags": []
          },
          "execution_count": 11
        }
      ]
    },
    {
      "cell_type": "markdown",
      "metadata": {
        "id": "_NNl8Rz5573U"
      },
      "source": [
        "# Vector\r\n",
        "벡터는 하나의 값을 표현할 때 2개 이상의 수치로 표현한 것. 스칼라의 형태와 동일한 속성을 갖고 있지만, 여러 수치 값을 이용해 표현하는 방식"
      ]
    },
    {
      "cell_type": "code",
      "metadata": {
        "colab": {
          "base_uri": "https://localhost:8080/"
        },
        "id": "NPJFCM5h52rd",
        "outputId": "0671eea8-6cb8-43a2-aefd-0e68f591ad99"
      },
      "source": [
        "vector1 = torch.tensor([1.,2.,3.])\r\n",
        "print(vector1)"
      ],
      "execution_count": 12,
      "outputs": [
        {
          "output_type": "stream",
          "text": [
            "tensor([1., 2., 3.])\n"
          ],
          "name": "stdout"
        }
      ]
    },
    {
      "cell_type": "code",
      "metadata": {
        "colab": {
          "base_uri": "https://localhost:8080/"
        },
        "id": "0J8Qn7k152vB",
        "outputId": "eb9a6982-3835-4798-a5a9-d72bf8a62be8"
      },
      "source": [
        "vector2 = torch.tensor([4.,5.,6.])\r\n",
        "print(vector2)"
      ],
      "execution_count": 13,
      "outputs": [
        {
          "output_type": "stream",
          "text": [
            "tensor([4., 5., 6.])\n"
          ],
          "name": "stdout"
        }
      ]
    },
    {
      "cell_type": "markdown",
      "metadata": {
        "id": "0XHm_alf6ysi"
      },
      "source": [
        "벡터 간의 사칙연산은 스칼라 사칙연산과 동일한 방식 , 여기서 곱셈과 나눗셈은 각 요소별로 연산됨"
      ]
    },
    {
      "cell_type": "code",
      "metadata": {
        "colab": {
          "base_uri": "https://localhost:8080/"
        },
        "id": "JjL8NT3L52x-",
        "outputId": "8369eb76-9696-4309-a91f-880c418f8d43"
      },
      "source": [
        "add_vector = vector1 + vector2\r\n",
        "print(add_vector)"
      ],
      "execution_count": 15,
      "outputs": [
        {
          "output_type": "stream",
          "text": [
            "tensor([5., 7., 9.])\n"
          ],
          "name": "stdout"
        }
      ]
    },
    {
      "cell_type": "code",
      "metadata": {
        "colab": {
          "base_uri": "https://localhost:8080/"
        },
        "id": "5OggNO-g5209",
        "outputId": "9363da18-fe45-4126-cef9-680d2ee0434d"
      },
      "source": [
        "sub_vector = vector1 - vector2\r\n",
        "print(sub_vector)"
      ],
      "execution_count": 16,
      "outputs": [
        {
          "output_type": "stream",
          "text": [
            "tensor([-3., -3., -3.])\n"
          ],
          "name": "stdout"
        }
      ]
    },
    {
      "cell_type": "code",
      "metadata": {
        "colab": {
          "base_uri": "https://localhost:8080/"
        },
        "id": "_9VyJ5yo524t",
        "outputId": "deca06f6-f5ef-4d5b-f2c1-1ab17d6306ba"
      },
      "source": [
        "mul_vector = vector1 * vector2\r\n",
        "print(mul_vector)"
      ],
      "execution_count": 17,
      "outputs": [
        {
          "output_type": "stream",
          "text": [
            "tensor([ 4., 10., 18.])\n"
          ],
          "name": "stdout"
        }
      ]
    },
    {
      "cell_type": "code",
      "metadata": {
        "colab": {
          "base_uri": "https://localhost:8080/"
        },
        "id": "VUkvVWoG527l",
        "outputId": "23f56b87-eebd-44ee-ebf2-aa2cb19001fb"
      },
      "source": [
        "div_vector = vector1 / vector2\r\n",
        "print(div_vector)"
      ],
      "execution_count": 18,
      "outputs": [
        {
          "output_type": "stream",
          "text": [
            "tensor([0.2500, 0.4000, 0.5000])\n"
          ],
          "name": "stdout"
        }
      ]
    },
    {
      "cell_type": "markdown",
      "metadata": {
        "id": "Aw6A3Wg57YAy"
      },
      "source": [
        "스칼라와 동일하게 똑같이 torch모듈에 내장된 메서드를 이용할 수 있다."
      ]
    },
    {
      "cell_type": "markdown",
      "metadata": {
        "id": "mKz-z9QV7kpq"
      },
      "source": [
        "# 행렬(Matrix)\r\n",
        "행렬은 2개 이상의 벡터 값을 통합해 구성된 값으로, 벡터 값 간 연산 속도를 빠르게 진행할 수 있는 선형 대수의 기본 단위"
      ]
    },
    {
      "cell_type": "code",
      "metadata": {
        "colab": {
          "base_uri": "https://localhost:8080/"
        },
        "id": "IIEeVxxT52-2",
        "outputId": "287be259-f95a-4dd9-ae85-346d2a8c0aff"
      },
      "source": [
        "matrix1 = torch.tensor([[1.,2.],[3.,4.]])\r\n",
        "print(matrix1)"
      ],
      "execution_count": 20,
      "outputs": [
        {
          "output_type": "stream",
          "text": [
            "tensor([[1., 2.],\n",
            "        [3., 4.]])\n"
          ],
          "name": "stdout"
        }
      ]
    },
    {
      "cell_type": "code",
      "metadata": {
        "colab": {
          "base_uri": "https://localhost:8080/"
        },
        "id": "jYQBrD0L53CA",
        "outputId": "3711643e-339e-4648-886d-ddb6406cac09"
      },
      "source": [
        "matrix2 = torch.tensor([[5.,6.],[7.,8.]])\r\n",
        "print(matrix2)"
      ],
      "execution_count": 19,
      "outputs": [
        {
          "output_type": "stream",
          "text": [
            "tensor([[5., 6.],\n",
            "        [7., 8.]])\n"
          ],
          "name": "stdout"
        }
      ]
    },
    {
      "cell_type": "markdown",
      "metadata": {
        "id": "K_UV7UWv8Cxr"
      },
      "source": [
        "행렬 값 간의 사칙연산도 스칼라,벡터 사칙연산과 동일한 방식이다."
      ]
    },
    {
      "cell_type": "code",
      "metadata": {
        "colab": {
          "base_uri": "https://localhost:8080/"
        },
        "id": "YM-x0BbP53FB",
        "outputId": "a7b628fe-c9d9-4e13-989a-9f1142cf7d1b"
      },
      "source": [
        "add_matrix = matrix1 + matrix2\r\n",
        "print(add_matrix)"
      ],
      "execution_count": 21,
      "outputs": [
        {
          "output_type": "stream",
          "text": [
            "tensor([[ 6.,  8.],\n",
            "        [10., 12.]])\n"
          ],
          "name": "stdout"
        }
      ]
    },
    {
      "cell_type": "code",
      "metadata": {
        "colab": {
          "base_uri": "https://localhost:8080/"
        },
        "id": "0oVLCOpu53Id",
        "outputId": "e590825b-f553-4fa9-fed7-30b7fc4b8b53"
      },
      "source": [
        "sub_matrix = matrix1 - matrix2\r\n",
        "print(sub_matrix)"
      ],
      "execution_count": 22,
      "outputs": [
        {
          "output_type": "stream",
          "text": [
            "tensor([[-4., -4.],\n",
            "        [-4., -4.]])\n"
          ],
          "name": "stdout"
        }
      ]
    },
    {
      "cell_type": "code",
      "metadata": {
        "colab": {
          "base_uri": "https://localhost:8080/"
        },
        "id": "50FUjoX_8O8a",
        "outputId": "656e3a98-9725-4995-9e8b-339f6493d29e"
      },
      "source": [
        "mul_matrix = matrix1 * matrix2\r\n",
        "print(mul_matrix)"
      ],
      "execution_count": 23,
      "outputs": [
        {
          "output_type": "stream",
          "text": [
            "tensor([[ 5., 12.],\n",
            "        [21., 32.]])\n"
          ],
          "name": "stdout"
        }
      ]
    },
    {
      "cell_type": "code",
      "metadata": {
        "colab": {
          "base_uri": "https://localhost:8080/"
        },
        "id": "4G13M9qw8O_0",
        "outputId": "6f8d1355-8998-4f7b-9f22-fe2db282b704"
      },
      "source": [
        "div_matrix = matrix1 / matrix2\r\n",
        "print(div_matrix)"
      ],
      "execution_count": 24,
      "outputs": [
        {
          "output_type": "stream",
          "text": [
            "tensor([[0.2000, 0.3333],\n",
            "        [0.4286, 0.5000]])\n"
          ],
          "name": "stdout"
        }
      ]
    },
    {
      "cell_type": "code",
      "metadata": {
        "colab": {
          "base_uri": "https://localhost:8080/"
        },
        "id": "xOiVcfEi-JzA",
        "outputId": "7c28ccb6-03a4-42b7-87c7-dbc09fe7d0cf"
      },
      "source": [
        "torch.matmul(matrix1,matrix2)  # 다음과 같이 행렬 곱 연산은 torch.matmul을 이용해 실행 할 수 있다."
      ],
      "execution_count": 33,
      "outputs": [
        {
          "output_type": "execute_result",
          "data": {
            "text/plain": [
              "tensor([[19., 22.],\n",
              "        [43., 50.]])"
            ]
          },
          "metadata": {
            "tags": []
          },
          "execution_count": 33
        }
      ]
    },
    {
      "cell_type": "markdown",
      "metadata": {
        "id": "DQHSZ4hG8kBb"
      },
      "source": [
        "행렬을 2차원의 배열이라 표현할 수 있다면, 텐서는 2차원 이상의 배열이라 표현할 수 있다. 텐서의 파이토치 예제 역시 스칼라 벡터, 행렬과 같은 논리로 적용된다. 텐서 내 행렬 단위의 인덱스 간, 행렬 내 인덱스 간 원소끼리 계산되며 행렬 곱은 텐서 내 같은 행렬 단위의 인덱스 간에 계산된다."
      ]
    },
    {
      "cell_type": "code",
      "metadata": {
        "colab": {
          "base_uri": "https://localhost:8080/"
        },
        "id": "BThIXlRy8PC2",
        "outputId": "5ae36da7-1b83-4f61-dbec-b7d66018ee29"
      },
      "source": [
        "tensor1 = torch.tensor([[[1.,2.],[3.,4.]],[[5.,6.],[7.,8.]]])\r\n",
        "print(tensor1)"
      ],
      "execution_count": 27,
      "outputs": [
        {
          "output_type": "stream",
          "text": [
            "tensor([[[1., 2.],\n",
            "         [3., 4.]],\n",
            "\n",
            "        [[5., 6.],\n",
            "         [7., 8.]]])\n"
          ],
          "name": "stdout"
        }
      ]
    },
    {
      "cell_type": "code",
      "metadata": {
        "colab": {
          "base_uri": "https://localhost:8080/"
        },
        "id": "KQAVitmp8PFw",
        "outputId": "cbe500ec-54fb-43d1-df96-9c15f377dd7e"
      },
      "source": [
        "tensor2 = torch.tensor([[[9.,10.],[11.,12.]],[[13.,14.],[15.,16.]]])\r\n",
        "print(tensor2)"
      ],
      "execution_count": 28,
      "outputs": [
        {
          "output_type": "stream",
          "text": [
            "tensor([[[ 9., 10.],\n",
            "         [11., 12.]],\n",
            "\n",
            "        [[13., 14.],\n",
            "         [15., 16.]]])\n"
          ],
          "name": "stdout"
        }
      ]
    },
    {
      "cell_type": "code",
      "metadata": {
        "colab": {
          "base_uri": "https://localhost:8080/"
        },
        "id": "f0m8jRaj8PJF",
        "outputId": "9bd9f9e3-22cd-4eb7-f4a9-81c732e037a8"
      },
      "source": [
        "print(tensor1 + tensor2)"
      ],
      "execution_count": 29,
      "outputs": [
        {
          "output_type": "stream",
          "text": [
            "tensor([[[10., 12.],\n",
            "         [14., 16.]],\n",
            "\n",
            "        [[18., 20.],\n",
            "         [22., 24.]]])\n"
          ],
          "name": "stdout"
        }
      ]
    },
    {
      "cell_type": "code",
      "metadata": {
        "colab": {
          "base_uri": "https://localhost:8080/"
        },
        "id": "0mb_Nbs18PMm",
        "outputId": "0c022587-96b3-4038-89fe-9d45d596bd05"
      },
      "source": [
        "print(tensor1 - tensor2)"
      ],
      "execution_count": 30,
      "outputs": [
        {
          "output_type": "stream",
          "text": [
            "tensor([[[-8., -8.],\n",
            "         [-8., -8.]],\n",
            "\n",
            "        [[-8., -8.],\n",
            "         [-8., -8.]]])\n"
          ],
          "name": "stdout"
        }
      ]
    },
    {
      "cell_type": "code",
      "metadata": {
        "colab": {
          "base_uri": "https://localhost:8080/"
        },
        "id": "jnVD-MFX8PPf",
        "outputId": "2fb16f0f-bd9d-452b-8d8d-481e45130949"
      },
      "source": [
        "print(tensor1 * tensor2)"
      ],
      "execution_count": 31,
      "outputs": [
        {
          "output_type": "stream",
          "text": [
            "tensor([[[  9.,  20.],\n",
            "         [ 33.,  48.]],\n",
            "\n",
            "        [[ 65.,  84.],\n",
            "         [105., 128.]]])\n"
          ],
          "name": "stdout"
        }
      ]
    },
    {
      "cell_type": "code",
      "metadata": {
        "colab": {
          "base_uri": "https://localhost:8080/"
        },
        "id": "0nY7oAO38PS4",
        "outputId": "c5d63450-6fdd-478c-88dc-8aa365cd60b7"
      },
      "source": [
        "print(tensor1 / tensor2)"
      ],
      "execution_count": 32,
      "outputs": [
        {
          "output_type": "stream",
          "text": [
            "tensor([[[0.1111, 0.2000],\n",
            "         [0.2727, 0.3333]],\n",
            "\n",
            "        [[0.3846, 0.4286],\n",
            "         [0.4667, 0.5000]]])\n"
          ],
          "name": "stdout"
        }
      ]
    },
    {
      "cell_type": "code",
      "metadata": {
        "colab": {
          "base_uri": "https://localhost:8080/"
        },
        "id": "JtQL3pjx8PV2",
        "outputId": "cfe9620b-44bf-4196-de37-d27baa8e81a6"
      },
      "source": [
        "torch.matmul(tensor1,tensor2)  # 행렬곱 표현도 가능"
      ],
      "execution_count": 35,
      "outputs": [
        {
          "output_type": "execute_result",
          "data": {
            "text/plain": [
              "tensor([[[ 31.,  34.],\n",
              "         [ 71.,  78.]],\n",
              "\n",
              "        [[155., 166.],\n",
              "         [211., 226.]]])"
            ]
          },
          "metadata": {
            "tags": []
          },
          "execution_count": 35
        }
      ]
    }
  ]
}